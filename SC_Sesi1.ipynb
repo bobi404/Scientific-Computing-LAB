{
  "nbformat": 4,
  "nbformat_minor": 0,
  "metadata": {
    "colab": {
      "provenance": [],
      "name": "SC-Sesi1.ipynb",
      "authorship_tag": "ABX9TyPmzyUPtO/WpCgXFvJ9uPRH",
      "include_colab_link": true
    },
    "kernelspec": {
      "name": "python3",
      "display_name": "Python 3"
    },
    "language_info": {
      "name": "python"
    }
  },
  "cells": [
    {
      "cell_type": "markdown",
      "metadata": {
        "id": "view-in-github",
        "colab_type": "text"
      },
      "source": [
        "<a href=\"https://colab.research.google.com/github/bobi404/Scientific-Computing-LAB/blob/main/SC_Sesi1.ipynb\" target=\"_parent\"><img src=\"https://colab.research.google.com/assets/colab-badge.svg\" alt=\"Open In Colab\"/></a>"
      ]
    },
    {
      "cell_type": "markdown",
      "source": [
        "sesi 1"
      ],
      "metadata": {
        "id": "wBndDhTEjPtU"
      }
    },
    {
      "cell_type": "code",
      "execution_count": null,
      "metadata": {
        "colab": {
          "base_uri": "https://localhost:8080/"
        },
        "id": "bc1Nverbis9O",
        "outputId": "30ae4a72-9389-45fa-837e-01385c6ddaf1"
      },
      "outputs": [
        {
          "output_type": "stream",
          "name": "stdout",
          "text": [
            "halo\n"
          ]
        }
      ],
      "source": [
        "print(\"halo\")"
      ]
    },
    {
      "cell_type": "code",
      "source": [
        "import time\n",
        "print(time.ctime())"
      ],
      "metadata": {
        "colab": {
          "base_uri": "https://localhost:8080/"
        },
        "id": "-P6zfOeAjtm5",
        "outputId": "4824fc7d-a408-47a9-abdc-abc4e6ff51e5"
      },
      "execution_count": null,
      "outputs": [
        {
          "output_type": "stream",
          "name": "stdout",
          "text": [
            "Thu Feb  6 04:40:43 2025\n"
          ]
        }
      ]
    },
    {
      "cell_type": "code",
      "source": [
        "x = \"Umur Saya\"\n",
        "y = 19\n",
        "z = 180.5\n",
        "a = ['Denpasar', 'Bali']\n",
        "\n",
        "print(x, y, \"tinggi saya\", z, \"saya berasal dari\", a)"
      ],
      "metadata": {
        "colab": {
          "base_uri": "https://localhost:8080/"
        },
        "id": "UCMh4OqlkjAV",
        "outputId": "1249543f-281f-494d-91b0-d4b4d4f59926"
      },
      "execution_count": null,
      "outputs": [
        {
          "output_type": "stream",
          "name": "stdout",
          "text": [
            "Umur Saya 19 tinggi saya 180.5 saya berasal dari ['Denpasar', 'Bali']\n"
          ]
        }
      ]
    },
    {
      "cell_type": "code",
      "source": [
        "a = int(1)\n",
        "b = int(2.2)\n",
        "c = int(\"51\")\n",
        "d = str(20)\n",
        "\n",
        "print(a, b, c, d)"
      ],
      "metadata": {
        "colab": {
          "base_uri": "https://localhost:8080/"
        },
        "id": "TmmPxHk9k1mF",
        "outputId": "64676fc2-42a7-45af-c837-4d4d8f141843"
      },
      "execution_count": null,
      "outputs": [
        {
          "output_type": "stream",
          "name": "stdout",
          "text": [
            "1 2 51 20\n"
          ]
        }
      ]
    },
    {
      "cell_type": "code",
      "source": [
        "a = \"Hello\"\n",
        "b = \" World\"\n",
        "c = a+b\n",
        "\n",
        "print(c)"
      ],
      "metadata": {
        "colab": {
          "base_uri": "https://localhost:8080/"
        },
        "id": "1VEqe5w5lg_3",
        "outputId": "720da07f-f10e-49d2-b157-a51be9fddc80"
      },
      "execution_count": null,
      "outputs": [
        {
          "output_type": "stream",
          "name": "stdout",
          "text": [
            "Hello World\n"
          ]
        }
      ]
    },
    {
      "cell_type": "code",
      "source": [
        "a = \"Hello World\"\n",
        "print(a[1])\n",
        "\n",
        "print(len(a))"
      ],
      "metadata": {
        "colab": {
          "base_uri": "https://localhost:8080/"
        },
        "id": "FbyxIRb9l3aG",
        "outputId": "5d00fcfe-2b48-4b85-8eb7-58f03726ef0d"
      },
      "execution_count": null,
      "outputs": [
        {
          "output_type": "stream",
          "name": "stdout",
          "text": [
            "e\n",
            "11\n"
          ]
        }
      ]
    },
    {
      "cell_type": "code",
      "source": [
        "#slicing\n",
        "b = \"BINUS Univ\"\n",
        "print(b[2:5])\n",
        "print(b[:5])\n",
        "print(b[2:])"
      ],
      "metadata": {
        "colab": {
          "base_uri": "https://localhost:8080/"
        },
        "id": "sdBU3wromHVy",
        "outputId": "623fda0d-1e02-449b-f0a2-cd0195c98ebc"
      },
      "execution_count": null,
      "outputs": [
        {
          "output_type": "stream",
          "name": "stdout",
          "text": [
            "NUS\n",
            "BINUS\n",
            "NUS Univ\n"
          ]
        }
      ]
    },
    {
      "cell_type": "code",
      "source": [
        "a = \"Hello\"\n",
        "print(a.upper())\n",
        "print(a.lower())\n",
        "print(a.replace(\"H\", \"J\"))"
      ],
      "metadata": {
        "colab": {
          "base_uri": "https://localhost:8080/"
        },
        "id": "VmsE9gr7nW1o",
        "outputId": "57413cfc-02e4-4cdc-c859-f1c407f72747"
      },
      "execution_count": null,
      "outputs": [
        {
          "output_type": "stream",
          "name": "stdout",
          "text": [
            "HELLO\n",
            "hello\n",
            "Jello\n"
          ]
        }
      ]
    },
    {
      "cell_type": "code",
      "source": [
        "nama = \"bobi\"\n",
        "x = 19\n",
        "string = \"nama saya {} umur saya {}\"\n",
        "\n",
        "print(string.format(nama, x))"
      ],
      "metadata": {
        "colab": {
          "base_uri": "https://localhost:8080/"
        },
        "id": "qIKLUgEOoD3l",
        "outputId": "4a7dc283-befc-49d5-dfb3-02e8f3977939"
      },
      "execution_count": null,
      "outputs": [
        {
          "output_type": "stream",
          "name": "stdout",
          "text": [
            "nama saya bobi umur saya 19\n"
          ]
        }
      ]
    },
    {
      "cell_type": "code",
      "source": [
        "nama = \"Janar\"\n",
        "for i in enumerate(nama):\n",
        "  print(i)"
      ],
      "metadata": {
        "colab": {
          "base_uri": "https://localhost:8080/"
        },
        "id": "ITDXStSaok0u",
        "outputId": "382bd2a5-59e3-4bf5-aea2-7e6a73674e48"
      },
      "execution_count": null,
      "outputs": [
        {
          "output_type": "stream",
          "name": "stdout",
          "text": [
            "(0, 'J')\n",
            "(1, 'a')\n",
            "(2, 'n')\n",
            "(3, 'a')\n",
            "(4, 'r')\n"
          ]
        }
      ]
    },
    {
      "cell_type": "code",
      "source": [
        "def perbandingan(a,b):\n",
        "  if a > b:\n",
        "    print(\"a lebih besar dari b\")\n",
        "  elif a < b:\n",
        "    print(\"a lebih kecil dari b\")\n",
        "  else:\n",
        "    print(\"a sama dengan b\")\n",
        "perbandingan(11,12)"
      ],
      "metadata": {
        "colab": {
          "base_uri": "https://localhost:8080/"
        },
        "id": "SqpR8f6Dpjuw",
        "outputId": "465dc48b-0bb2-4f57-cbb7-5129a360ff3e"
      },
      "execution_count": null,
      "outputs": [
        {
          "output_type": "stream",
          "name": "stdout",
          "text": [
            "a lebih kecil dari b\n"
          ]
        }
      ]
    },
    {
      "cell_type": "code",
      "source": [
        "i = 1\n",
        "while i<6:\n",
        "  print(i)\n",
        "  i += 1"
      ],
      "metadata": {
        "colab": {
          "base_uri": "https://localhost:8080/"
        },
        "id": "5SjAubvLqlUx",
        "outputId": "8503fcdc-dfc2-46f4-aae4-659460f094e8"
      },
      "execution_count": null,
      "outputs": [
        {
          "output_type": "stream",
          "name": "stdout",
          "text": [
            "1\n",
            "2\n",
            "3\n",
            "4\n",
            "5\n"
          ]
        }
      ]
    },
    {
      "cell_type": "code",
      "source": [
        "i = 3\n",
        "for i in range(i,6):\n",
        "  print(i)"
      ],
      "metadata": {
        "colab": {
          "base_uri": "https://localhost:8080/"
        },
        "id": "fIikOg68rawZ",
        "outputId": "ad791bb8-adfc-4fa0-d150-2421b7f6b92e"
      },
      "execution_count": null,
      "outputs": [
        {
          "output_type": "stream",
          "name": "stdout",
          "text": [
            "3\n",
            "4\n",
            "5\n"
          ]
        }
      ]
    },
    {
      "cell_type": "code",
      "source": [
        "i = 2\n",
        "for i in range(i,41):\n",
        "  if i % 2 == 0:\n",
        "    print(i,\"genap\")\n",
        "  elif i % 2 != 0:\n",
        "    print(i,\"ganjil\")"
      ],
      "metadata": {
        "colab": {
          "base_uri": "https://localhost:8080/"
        },
        "id": "MarXQuBvrx5s",
        "outputId": "25d4d9f7-ceb2-4e83-be9a-881cc43368de"
      },
      "execution_count": null,
      "outputs": [
        {
          "output_type": "stream",
          "name": "stdout",
          "text": [
            "2 genap\n",
            "3 ganjil\n",
            "4 genap\n",
            "5 ganjil\n",
            "6 genap\n",
            "7 ganjil\n",
            "8 genap\n",
            "9 ganjil\n",
            "10 genap\n",
            "11 ganjil\n",
            "12 genap\n",
            "13 ganjil\n",
            "14 genap\n",
            "15 ganjil\n",
            "16 genap\n",
            "17 ganjil\n",
            "18 genap\n",
            "19 ganjil\n",
            "20 genap\n",
            "21 ganjil\n",
            "22 genap\n",
            "23 ganjil\n",
            "24 genap\n",
            "25 ganjil\n",
            "26 genap\n",
            "27 ganjil\n",
            "28 genap\n",
            "29 ganjil\n",
            "30 genap\n",
            "31 ganjil\n",
            "32 genap\n",
            "33 ganjil\n",
            "34 genap\n",
            "35 ganjil\n",
            "36 genap\n",
            "37 ganjil\n",
            "38 genap\n",
            "39 ganjil\n",
            "40 genap\n"
          ]
        }
      ]
    },
    {
      "cell_type": "code",
      "source": [
        "import numpy as np\n",
        "\n",
        "x = np.array([[1, 2, 3], [4, 5, 6]])\n",
        "\n",
        "y = np.array([[3, 1, 2], [6, 4, 5]])\n",
        "\n",
        "x+y"
      ],
      "metadata": {
        "colab": {
          "base_uri": "https://localhost:8080/"
        },
        "id": "FbH-xQbNuxtE",
        "outputId": "9a7991ba-9ff7-467b-9c78-ee493103dfa9"
      },
      "execution_count": null,
      "outputs": [
        {
          "output_type": "execute_result",
          "data": {
            "text/plain": [
              "array([[ 4,  3,  5],\n",
              "       [10,  9, 11]])"
            ]
          },
          "metadata": {},
          "execution_count": 40
        }
      ]
    },
    {
      "cell_type": "code",
      "source": [
        "data = np.array([10, 9, 8, 7, 6, 5])\n",
        "\n",
        "print(\"rata-rata:\", np.mean(data))\n",
        "print(\"maksimum:\", np.max(data))\n",
        "print(\"minimum:\", np.min(data))\n",
        "print(\"standar deviasi:\", np.std(data))"
      ],
      "metadata": {
        "colab": {
          "base_uri": "https://localhost:8080/"
        },
        "id": "NB3pB3gRwGb4",
        "outputId": "847b6f3c-896b-48d4-c1fb-7df0a788420e"
      },
      "execution_count": null,
      "outputs": [
        {
          "output_type": "stream",
          "name": "stdout",
          "text": [
            "rata-rata: 7.5\n",
            "maksimum: 10\n",
            "minimum: 5\n",
            "standar deviasi: 1.707825127659933\n"
          ]
        }
      ]
    },
    {
      "cell_type": "code",
      "source": [
        "def login():\n",
        "    while True:\n",
        "        username = input(\"Masukkan username: \")\n",
        "        password = input(\"Masukkan password: \")\n",
        "        if password == \"Admin123\":\n",
        "            print(\"Login Berhasil!, Selamat datang\", username)\n",
        "            break\n",
        "        else:\n",
        "            print(\"Password salah.\\n\")\n",
        "\n",
        "def calculate(UAS, UTS, ASG):\n",
        "    return (UAS * 0.5) + (UTS * 0.3) + (ASG * 0.2)\n",
        "\n",
        "def grading(total):\n",
        "    if 90 <= total <= 100:\n",
        "        return \"A\"\n",
        "    elif 85 <= total < 90:\n",
        "        return \"A-\"\n",
        "    elif 80 <= total < 85:\n",
        "        return \"B+\"\n",
        "    elif 75 <= total < 80:\n",
        "        return \"B\"\n",
        "    elif 70 <= total < 75:\n",
        "        return \"B-\"\n",
        "    elif 65 <= total < 70:\n",
        "        return \"C\"\n",
        "    elif 60 <= total < 65:\n",
        "        return \"D\"\n",
        "    elif 11 <= total < 60:\n",
        "        return \"E\"\n",
        "    else:\n",
        "        return \"F\"\n",
        "\n",
        "def valid_score(prompt):\n",
        "    while True:\n",
        "        try:\n",
        "            score = float(input(prompt))\n",
        "            if 0 <= score <= 100:\n",
        "                return score\n",
        "            else:\n",
        "                print(\"Invalid input. Tolong masukkan angka antara 0 sampai 100.\")\n",
        "        except ValueError:\n",
        "            print(\"Invalid input. Tolong masukkan angka yang valid.\")\n",
        "\n",
        "def main():\n",
        "    login()\n",
        "    name = input(\"Masukkan nama siswa: \")\n",
        "    UAS = valid_score(\"Masukkan nilai UAS (0-100): \")\n",
        "    UTS = valid_score(\"Masukkan nilai UTS (0-100): \")\n",
        "    ASG = valid_score(\"Masukkan nilai Assignment (0-100): \")\n",
        "\n",
        "    final_score = calculate(UAS, UTS, ASG)\n",
        "    grade = grading(final_score)\n",
        "\n",
        "    print(\"\\n============================================\")\n",
        "    print(f\"Hasil perolehan nilai {name}\")\n",
        "    print(f\"Final Score: {final_score:.1f}\")\n",
        "    print(f\"Grade: {grade}\")\n",
        "    print(\"============================================\")\n",
        "\n",
        "if __name__ == \"__main__\":\n",
        "    main()\n"
      ],
      "metadata": {
        "colab": {
          "base_uri": "https://localhost:8080/"
        },
        "id": "FHbMhWl8C_S7",
        "outputId": "aba4f253-f6ab-4598-a0ce-baaefdf98636"
      },
      "execution_count": null,
      "outputs": [
        {
          "output_type": "stream",
          "name": "stdout",
          "text": [
            "Masukkan username: aouh\n",
            "Masukkan password: Admin123\n",
            "Login Berhasil!, Selamat datang aouh\n",
            "Masukkan nama siswa: oauehf\n",
            "Masukkan nilai UAS (0-100): 78\n",
            "Masukkan nilai UTS (0-100): 100\n",
            "Masukkan nilai Assignment (0-100): 98\n",
            "\n",
            "============================================\n",
            "Hasil perolehan nilai oauehf\n",
            "Final Score: 88.6\n",
            "Grade: A-\n",
            "============================================\n"
          ]
        }
      ]
    }
  ]
}