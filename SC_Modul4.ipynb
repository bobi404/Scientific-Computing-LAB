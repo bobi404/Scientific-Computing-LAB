{
  "nbformat": 4,
  "nbformat_minor": 0,
  "metadata": {
    "colab": {
      "provenance": [],
      "authorship_tag": "ABX9TyPHAaxyvBoFFYcCtucymQ3u",
      "include_colab_link": true
    },
    "kernelspec": {
      "name": "python3",
      "display_name": "Python 3"
    },
    "language_info": {
      "name": "python"
    }
  },
  "cells": [
    {
      "cell_type": "markdown",
      "metadata": {
        "id": "view-in-github",
        "colab_type": "text"
      },
      "source": [
        "<a href=\"https://colab.research.google.com/github/bobi404/Scientific-Computing-LAB/blob/main/SC_Modul4.ipynb\" target=\"_parent\"><img src=\"https://colab.research.google.com/assets/colab-badge.svg\" alt=\"Open In Colab\"/></a>"
      ]
    },
    {
      "cell_type": "code",
      "execution_count": 16,
      "metadata": {
        "id": "YapZ1AkQVpLW"
      },
      "outputs": [],
      "source": [
        "#bisection\n",
        "\n",
        "import numpy as np\n",
        "\n",
        "def my_bisection(f, a, b,tol):\n",
        "  if np.sign(f(a)) == np.sign(f(b)):\n",
        "    raise Exception(\n",
        "      \"The scalars a and b do not bound a root\"\n",
        "    )\n",
        "\n",
        "  m = (a+b)/2\n",
        "\n",
        "  if np.abs(f(m)) < tol:\n",
        "    return m\n",
        "  elif np.sign(f(a)) == np.sign(f(m)):\n",
        "    return my_bisection(f, m, b, tol)\n",
        "  elif np.sign(f(b)) == np.sign(f(m)):\n",
        "    return my_bisection(f, a, m, tol)"
      ]
    },
    {
      "cell_type": "code",
      "source": [
        "#bisection\n",
        "\n",
        "f1 = lambda x: x**3 - 3*x**2 + 2*x\n",
        "f2 = lambda x: np.sin(x) - x\n",
        "\n",
        "r1 = my_bisection(f1, 1.1, 2, 0.01)\n",
        "print(\"r1 =\", r1)\n",
        "\n",
        "r01 = my_bisection(f2, 0, 1, 0.001)\n",
        "print(\"r01 =\", r01)\n",
        "\n",
        "print(\"f(r1) =\", f1(r1))\n",
        "print(\"f(r01) =\", f2(r01))"
      ],
      "metadata": {
        "colab": {
          "base_uri": "https://localhost:8080/"
        },
        "id": "CfEI063n2jmD",
        "outputId": "e2a6b767-12f5-4da3-b947-af73a34215b9"
      },
      "execution_count": 17,
      "outputs": [
        {
          "output_type": "stream",
          "name": "stdout",
          "text": [
            "r1 = 1.996484375\n",
            "r01 = 0.125\n",
            "f(r1) = -0.006994214594365111\n",
            "f(r01) = -0.0003252666147723071\n"
          ]
        }
      ]
    },
    {
      "cell_type": "code",
      "source": [
        "#newton-raphson\n",
        "\n",
        "import numpy as np\n",
        "\n",
        "f = lambda x: x**3 - 3*x**2 + 2*x\n",
        "f_prime = lambda x: 3*x**2 - 6*x + 2\n",
        "newton_raphson = 1.5 - f(1.5) / f_prime(1.5)\n",
        "\n",
        "f2 = lambda x: np.sin(x) - x\n",
        "f_prime2 = lambda x: np.cos(x) - 1\n",
        "newton_raphson2 = 1 - f2(1) / f_prime2(1)\n",
        "\n",
        "print(\"newton_raphson =\", newton_raphson)\n",
        "print(\"sqrt(2) =\", np.sqrt(2))\n",
        "print(\"newton_raphson2 =\", newton_raphson2)\n",
        "print(\"sqrt(2) =\", np.sqrt(2))"
      ],
      "metadata": {
        "colab": {
          "base_uri": "https://localhost:8080/"
        },
        "id": "VHpWtB6z29q0",
        "outputId": "765b0112-db1e-4c8d-e8bf-5855c52ad9a1"
      },
      "execution_count": 51,
      "outputs": [
        {
          "output_type": "stream",
          "name": "stdout",
          "text": [
            "newton_raphson = 0.0\n",
            "sqrt(2) = 1.4142135623730951\n",
            "newton_raphson2 = 0.6551450720424304\n",
            "sqrt(2) = 1.4142135623730951\n"
          ]
        }
      ]
    },
    {
      "cell_type": "code",
      "source": [
        "#newton-raphson\n",
        "\n",
        "def my_newton(f, df, x0, tol):\n",
        "  if abs(f(x0)) < tol:\n",
        "    return x0\n",
        "  else:\n",
        "    return my_newton(f, df, x0 - f(x0)/df(x0), tol)"
      ],
      "metadata": {
        "id": "kzPx_Nlw33-B"
      },
      "execution_count": 52,
      "outputs": []
    },
    {
      "cell_type": "code",
      "source": [
        "#newton-raphson\n",
        "\n",
        "estimate = my_newton(f, f_prime, 1.5, 1e-2)\n",
        "print(\"estimate =\", estimate)\n",
        "print(\"sqrt(2) =\", np.sqrt(2))\n",
        "\n",
        "estimate2 = my_newton(f2, f_prime2, 1, 1e-2)\n",
        "print(\"estimate2 =\", estimate2)\n",
        "print(\"sqrt(2) =\", np.sqrt(2))"
      ],
      "metadata": {
        "colab": {
          "base_uri": "https://localhost:8080/"
        },
        "id": "vPmWs32SBoZS",
        "outputId": "222e13cb-00a2-4476-c940-6938b1cf7c14"
      },
      "execution_count": 53,
      "outputs": [
        {
          "output_type": "stream",
          "name": "stdout",
          "text": [
            "estimate = 0.0\n",
            "sqrt(2) = 1.4142135623730951\n",
            "estimate2 = 0.2881484008925012\n",
            "sqrt(2) = 1.4142135623730951\n"
          ]
        }
      ]
    }
  ]
}